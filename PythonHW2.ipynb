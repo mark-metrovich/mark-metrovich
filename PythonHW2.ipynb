{
 "cells": [
  {
   "cell_type": "markdown",
   "metadata": {},
   "source": [
    "# Python Homework 2"
   ]
  },
  {
   "cell_type": "markdown",
   "metadata": {},
   "source": [
    "##### A stochastic model for a car insurance company's total cost of damages from traffic accidents goes back to the work by Van der Lann and Louter, \"A statistical model for the costs of passenger car traffic accidents\", Journal of the Royal Statistical Society (1986).\n",
    "\n",
    "For every $k=1,2,3\\ldots$ we denote by the random variable $X_k$ the US dollar amount of a damage from a policy holder's traffic accident which will occur during the year 2022.\n",
    "\n",
    "We assume that $X_1$, $X_2$,... is an i.i.d. (independent and identically distributed) sequence of exponentially distributed random variables with an average claim size of 1,500 USD. The (random) total number of accidents $N$ in 2022 is assumed to be Poisson distributed with $\\lambda$ claims on average.\n",
    "\n",
    "It is assumed that the number of accidents is independent of the US dollar amount of damages for each accident. That is, the random variable $N$ is independent of the random variables $X_1$, $X_2$,...\n",
    "\n",
    "The total costs for the insurance company by the end of 2022 will thus be given by the <b>random sum</b> \n",
    "\n",
    "$$S_N := X_1 + X_2 + \\dots + X_N = \\sum_{k = 1}^{N} X_k.$$\n",
    "\n",
    "Note that the total number $N$ of accidents is random!"
   ]
  },
  {
   "cell_type": "markdown",
   "metadata": {},
   "source": [
    "The goal of the current exercise is to approximate via simulation:\n",
    "\n",
    "* the conditional expected total costs $$\\mathbb{E}[S_N|N=j]$$ for the insurance company in 2022 given that the number of claims is equal to $j$, and\n",
    "\n",
    "* the expected total costs $$\\mathbb{E}[S_N]$$ for the insurance company in 2022, and\n",
    "\n",
    "* the probabilities that the total cost will not exceed $K$ USD, i.e., \n",
    "\n",
    "$$\\mathbb{P}[S_N \\leq K] \\quad \\text{for} \\, K = \\$30,000,\\text{  and  } K=\\$45,000$$\n"
   ]
  },
  {
   "cell_type": "markdown",
   "metadata": {},
   "source": [
    "As usual, we start with loading some packages:"
   ]
  },
  {
   "cell_type": "code",
   "execution_count": 2,
   "metadata": {},
   "outputs": [],
   "source": [
    "import numpy as np\n",
    "import math"
   ]
  },
  {
   "cell_type": "markdown",
   "metadata": {},
   "source": [
    "<b>Step 1:</b><br>\n",
    "First, write a function <tt>randomSum()</tt> which simulates from the distribution of $S_N$ given that $N=j$. The output should just be a single scalar!\n",
    "\n",
    "<i>Hint:</i> Use proper build-in functions from the <i>NumPy</i>-package in your code in order to sample from an Exponential distribution (check out the GettingStarted python file): "
   ]
  },
  {
   "cell_type": "code",
   "execution_count": 29,
   "metadata": {},
   "outputs": [],
   "source": [
    "def randomSum(averageClaimSize, j):\n",
    "    \n",
    "    ## Write your own code here\n",
    "    ## sample from exp distribution \n",
    "    sampleSum= sum(np.random.exponential(averageClaimSize,j))\n",
    "        \n",
    "    return sampleSum  "
   ]
  },
  {
   "cell_type": "code",
   "execution_count": 30,
   "metadata": {},
   "outputs": [
    {
     "data": {
      "text/plain": [
       "23889.354545681366"
      ]
     },
     "execution_count": 30,
     "metadata": {},
     "output_type": "execute_result"
    }
   ],
   "source": [
    "## Test your function\n",
    "randomSum(1500,20)"
   ]
  },
  {
   "cell_type": "markdown",
   "metadata": {},
   "source": [
    "<b>Step 2:</b><br>Write a function <tt>simulatorConditional()</tt> which uses the function <tt>randomSum()</tt> to simulate $M \\in \\mathbb{N}$ samples from the distribution of $S_N$ given that $N=j$. The output should be an array of length $M$."
   ]
  },
  {
   "cell_type": "code",
   "execution_count": 92,
   "metadata": {},
   "outputs": [],
   "source": [
    "def simulatorConditional(averageClaimSize, j, M):\n",
    "\n",
    "    ## Write your own code here\n",
    "    samples = []\n",
    "    for i in range(M):\n",
    "        samples.append(randomSum(averageClaimSize, j))\n",
    "    return samples"
   ]
  },
  {
   "cell_type": "code",
   "execution_count": 93,
   "metadata": {},
   "outputs": [
    {
     "data": {
      "text/plain": [
       "[47851.82531063675,\n",
       " 21844.508236189147,\n",
       " 30710.915574115956,\n",
       " 32680.515789802714,\n",
       " 23632.591904603192,\n",
       " 27452.436513293058,\n",
       " 22973.17157791629,\n",
       " 15940.32316795865,\n",
       " 48593.9167000452,\n",
       " 30157.88105373332]"
      ]
     },
     "execution_count": 93,
     "metadata": {},
     "output_type": "execute_result"
    }
   ],
   "source": [
    "## Test your function\n",
    "simulatorConditional(1500,20,10)"
   ]
  },
  {
   "cell_type": "markdown",
   "metadata": {},
   "source": [
    "<b>Step 3:</b><br>Use your <tt>simulatorConditional()</tt> function to approximate the conditional expectation $$\\mathbb{E}[S_N|N=j]$$ for $j=10$ and $j=20$.\n",
    "\n",
    "For this, you generate with your function <tt>simulatorConditional()</tt> a bunch of $M=1,000$ independent realizations (samples) $s^{(1)}_j, s^{(2)}_j, \\ldots, s^{(M)}_j$ with the distribution of $S_N$ given $N=j$. Then you can approximate:\n",
    "$$ \\$j \\cdot 1,500 = \\mathbb{E}[S_N|N=j] \\approx \\frac{1}{M} \\sum_{m=1}^M s^{(m)}_j,$$\n",
    "and check the accuracy of this approximation."
   ]
  },
  {
   "cell_type": "code",
   "execution_count": 40,
   "metadata": {},
   "outputs": [
    {
     "name": "stdout",
     "output_type": "stream",
     "text": [
      "15000 14893.518826294967\n",
      "30000 30253.59510125117\n"
     ]
    }
   ],
   "source": [
    "## Here comes your code \n",
    "\n",
    "# using j = 10\n",
    "appx = 10*1500\n",
    "sumappx = (1/1000) * sum(simulatorConditional(1500,10,1000))\n",
    "print(appx, sumappx)\n",
    "\n",
    "# using j = 20 \n",
    "appx2= 20*1500\n",
    "sumappx2 = (1/1000) * sum(simulatorConditional(1500,20,1000))\n",
    "print(appx2, sumappx2)"
   ]
  },
  {
   "cell_type": "markdown",
   "metadata": {},
   "source": [
    "<b>Step 4:</b><br>Write another simulator function which again uses the function <tt>randomSum()</tt> to simulate $M \\in \\mathbb{N}$ samples now from the unconditional distribution of $S_N$. You will need to write a function <tt>simulator()</tt> that passes Poisson distributed random numbers into the second argument of <tt>randomSum()</tt> now. The output of the function <tt>simulator()</tt> should be an array of length $M$."
   ]
  },
  {
   "cell_type": "code",
   "execution_count": 58,
   "metadata": {},
   "outputs": [],
   "source": [
    "def simulator(averageClaimSize, Poissonparameter, M):\n",
    "\n",
    "    ## Write your own code here\n",
    "    samples = []\n",
    "    for i in range(M): \n",
    "        samples.append(randomSum(averageClaimSize, Poissonparameter))\n",
    "    \n",
    "    return samples"
   ]
  },
  {
   "cell_type": "code",
   "execution_count": 60,
   "metadata": {},
   "outputs": [
    {
     "data": {
      "text/plain": [
       "[24163.14188311618,\n",
       " 38185.750891674616,\n",
       " 18052.474797586565,\n",
       " 24505.28280355355,\n",
       " 25400.26002235242,\n",
       " 23270.531628339006,\n",
       " 28105.519916472364,\n",
       " 29889.013321855935,\n",
       " 26527.941615947573,\n",
       " 35874.28416464988]"
      ]
     },
     "execution_count": 60,
     "metadata": {},
     "output_type": "execute_result"
    }
   ],
   "source": [
    "simulator(1500, 20, 10)"
   ]
  },
  {
   "cell_type": "markdown",
   "metadata": {},
   "source": [
    "<b>Step 5:</b><br>We now assume that the average number of claims per year is $20$ and therefore choose $\\lambda=20$. As you are seeing in the homework, it holds via the so-called <b>Wald's Identity</b> that the expectation of the random sum $S_N$ is actually given by the formula\n",
    "\n",
    "\\begin{equation}\n",
    "\\mathbb{E}[S_N] = \\mathbb{E}[N] \\cdot \\mathbb{E}[X_1] = 20 \\cdot \\$1,500 = \\$30,000.\n",
    "\\end{equation}\n",
    "\n",
    "Check via the empirical mean that\n",
    "\n",
    "$$ \\$30,000 = \\mathbb{E}[S_N] \\approx \\frac{1}{M} \\sum_{m=1}^M s^{(m)}_N$$\n",
    "\n",
    "where $s^{(1)}_N, s^{(2)}_N, \\ldots, s^{(M)}_N$ denote $M$ independent realizations (samples) from the random variable $S_N$. Use $M = 5000$ simulations.  "
   ]
  },
  {
   "cell_type": "code",
   "execution_count": 43,
   "metadata": {},
   "outputs": [
    {
     "name": "stdout",
     "output_type": "stream",
     "text": [
      "30000 30054.924454896678\n"
     ]
    }
   ],
   "source": [
    "## Here comes your codage\n",
    "appx5 = 30000\n",
    "sumappx5 = (1/5000) * sum(simulator(1500, 20, 5000))\n",
    "print(appx5, sumappx5)\n"
   ]
  },
  {
   "cell_type": "markdown",
   "metadata": {},
   "source": [
    "<b>Step 6: </b><br>Recall from class that the desired probabilities $\\mathbb{P}[S_N \\leq K]$ for $K = \\$30,000,\\text{ and } \\$45,000$ can be computed as expectations via an indicator function\n",
    "\n",
    "$$ \\mathbb{P}[S_N \\leq K] = \\mathbb{E}[1_{\\{S_N \\leq K\\}}]$$\n",
    "\n",
    "We use once more the empricial mean to approximate\n",
    "\n",
    "$$ \\mathbb{E}[1_{\\{S_N \\leq K\\}}] \\approx \\frac{1}{M} \\sum_{m=1}^M 1_{\\{s^{(m)}_N \\leq K \\}}$$\n",
    "\n",
    "with $M$ independent realizations (samples) from the random variable $S_N$ (again denoted by $s^{(1)}_N, s^{(2)}_N, \\ldots, s^{(M)}_N$)."
   ]
  },
  {
   "cell_type": "markdown",
   "metadata": {},
   "source": [
    "Write a function <tt>MCprobEstimation()</tt> which estimates the probabilities $\\mathbb{P}[S_N \\leq K]$ for $K = \\$30,000,\\text{  and  } K=\\$45,000$ as described based on $M$ simulations of $S_N$. The output should be a real number in [0,1]:"
   ]
  },
  {
   "cell_type": "code",
   "execution_count": 124,
   "metadata": {},
   "outputs": [],
   "source": [
    "def MCprobEstimation(averageClaimSize, averageNumberOfClaims, K, M):\n",
    "\n",
    "    #expected value \n",
    "    samplesums = []\n",
    "    for i in range(M): \n",
    "        samplesums.append(sum(simulator(averageClaimSize, averageNumberOfClaims, M)))\n",
    "            \n",
    "    return empiricalprob\n"
   ]
  },
  {
   "cell_type": "code",
   "execution_count": 126,
   "metadata": {
    "scrolled": true
   },
   "outputs": [],
   "source": [
    "## Test your function\n",
    "#MCprobEstimation(1500, 20, 30000, 10)"
   ]
  },
  {
   "cell_type": "markdown",
   "metadata": {},
   "source": [
    "Test your function with varying $M = 100, 1000, 10000$ simulations:"
   ]
  },
  {
   "cell_type": "code",
   "execution_count": null,
   "metadata": {
    "scrolled": true
   },
   "outputs": [],
   "source": [
    "#print(MCprobEstimation(1500, 20, 30000, 1000))\n",
    "#print(MCprobEstimation(1500, 20, 30000, 100))\n",
    "#print(MCprobEstimation(1500, 20, 30000, 10000))"
   ]
  },
  {
   "cell_type": "code",
   "execution_count": null,
   "metadata": {},
   "outputs": [],
   "source": [
    "#print(MCprobEstimation(1500, 20, 45000, 100))\n",
    "#print(MCprobEstimation(1500, 20, 45000, 1000))\n",
    "#print(MCprobEstimation(1500, 20, 45000, 10000))"
   ]
  }
 ],
 "metadata": {
  "anaconda-cloud": {},
  "kernelspec": {
   "display_name": "Python 3 (ipykernel)",
   "language": "python",
   "name": "python3"
  },
  "language_info": {
   "codemirror_mode": {
    "name": "ipython",
    "version": 3
   },
   "file_extension": ".py",
   "mimetype": "text/x-python",
   "name": "python",
   "nbconvert_exporter": "python",
   "pygments_lexer": "ipython3",
   "version": "3.9.13"
  }
 },
 "nbformat": 4,
 "nbformat_minor": 2
}
